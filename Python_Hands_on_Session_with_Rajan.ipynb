{
  "nbformat": 4,
  "nbformat_minor": 0,
  "metadata": {
    "colab": {
      "provenance": []
    },
    "kernelspec": {
      "name": "python3",
      "display_name": "Python 3"
    },
    "language_info": {
      "name": "python"
    }
  },
  "cells": [
    {
      "cell_type": "markdown",
      "source": [
        "Python Fundamentals\n",
        "----"
      ],
      "metadata": {
        "id": "ajCTywLBRHYb"
      }
    },
    {
      "cell_type": "markdown",
      "source": [
        "Basic Input/Output (Refresher)\n",
        "---\n",
        "You are asked to accept weight in Pounds ,  write logic to print\n",
        "weight in Kilograms."
      ],
      "metadata": {
        "id": "CqdnezDwR2MN"
      }
    },
    {
      "cell_type": "code",
      "source": [
        "lbs = int (input('enter weight in Pounds '))\n",
        "\n",
        "kg = lbs * 0.45\n",
        "\n",
        "print(f'{lbs} Pounds is {kg} Kilogram(s)')\n"
      ],
      "metadata": {
        "colab": {
          "base_uri": "https://localhost:8080/"
        },
        "id": "tVtkg0YYRJJz",
        "outputId": "1368974b-98b8-4f05-fc9b-258f9c6a719f"
      },
      "execution_count": null,
      "outputs": [
        {
          "output_type": "stream",
          "name": "stdout",
          "text": [
            "enter weight in Pounds 110\n",
            "110 Pounds is 49.5 Kilogram(s)\n"
          ]
        }
      ]
    },
    {
      "cell_type": "code",
      "source": [],
      "metadata": {
        "id": "Hnl3tU_ZSX3V"
      },
      "execution_count": null,
      "outputs": []
    },
    {
      "cell_type": "code",
      "source": [
        "planet='earth'\n",
        "diameter=12734"
      ],
      "metadata": {
        "id": "Ms7mw-0PSoW6"
      },
      "execution_count": null,
      "outputs": []
    },
    {
      "cell_type": "code",
      "source": [
        "print( 'the diameter of ',planet, ' is ', diameter)"
      ],
      "metadata": {
        "colab": {
          "base_uri": "https://localhost:8080/"
        },
        "id": "HbIUg-6lSpzy",
        "outputId": "c9ad4a83-e618-42a2-ff23-cdeaeee97cd3"
      },
      "execution_count": null,
      "outputs": [
        {
          "output_type": "stream",
          "name": "stdout",
          "text": [
            "the diameter of  earth  is  12734\n"
          ]
        }
      ]
    },
    {
      "cell_type": "code",
      "source": [
        "print(f'the diameter of {planet} is  {diameter}')"
      ],
      "metadata": {
        "colab": {
          "base_uri": "https://localhost:8080/"
        },
        "id": "7jAPy-HeSs2K",
        "outputId": "54ce99bf-ca1e-4712-b3c4-f2f7b08498f1"
      },
      "execution_count": null,
      "outputs": [
        {
          "output_type": "stream",
          "name": "stdout",
          "text": [
            "the diameter of earth is  12734\n"
          ]
        }
      ]
    },
    {
      "cell_type": "code",
      "source": [
        "# -- there are 2 rules you must follow\n",
        "# the sentance must be prefixed with letter 'f'\n",
        "# the variables must be enclosed in {} brakcets."
      ],
      "metadata": {
        "id": "XkNSo7a1S7Cd"
      },
      "execution_count": null,
      "outputs": []
    },
    {
      "cell_type": "markdown",
      "source": [
        "# Decision Making in Python\n",
        "---\n",
        "\n"
      ],
      "metadata": {
        "id": "eno_rfFHTqAG"
      }
    },
    {
      "cell_type": "markdown",
      "source": [
        "You are asked to accept BasicPay from User.\n",
        "<pre>\n",
        "if BasicPay is >= 5000 then  HRA will be 12% of BasicPay , DA will be 14% of BasicPay.\n",
        "\n",
        "\n",
        "if BasicPay is < 5000 then HRA will be 16% of BasicPay , DA will be 18% of BasicPay.\n",
        "\n",
        "Objective: to Find Gross Pay . (GrossPay is the Sum of BasicPay + HRA+ DA)."
      ],
      "metadata": {
        "id": "cshdwomjTu6Q"
      }
    },
    {
      "cell_type": "code",
      "source": [
        "basicPay =  int (input('enter your Basic Salary 💵 '))\n",
        "\n",
        "if basicPay >= 5000 :\n",
        "\n",
        "  HRA = .12 * basicPay\n",
        "  DA  = .14 * basicPay\n",
        "\n",
        "else:\n",
        "\n",
        "  HRA = .16 * basicPay\n",
        "  DA  = .18 * basicPay\n",
        "\n",
        "\n",
        "grossPay = basicPay + HRA  + DA\n",
        "\n",
        "print(f'''\n",
        "\n",
        "Basic Salary : {basicPay}\n",
        "\n",
        "House Rent Allowance : {HRA}\n",
        "\n",
        "Dearness Allowance : {round( DA , 2 ) }\n",
        "\n",
        "Gross Salary : {grossPay}\n",
        "\n",
        "''')\n"
      ],
      "metadata": {
        "colab": {
          "base_uri": "https://localhost:8080/"
        },
        "id": "Fo5bpHDFTryl",
        "outputId": "fd70668d-37ab-4d9c-9325-ea0ec714083c"
      },
      "execution_count": null,
      "outputs": [
        {
          "output_type": "stream",
          "name": "stdout",
          "text": [
            "enter your Basic Salary 💵 9500\n",
            "\n",
            "\n",
            "Basic Salary : 9500\n",
            "      \n",
            "House Rent Allowance : 1140.0\n",
            "      \n",
            "Dearness Allowance : 1330.0000000000002\n",
            "      \n",
            "Gross Salary : 11970.0\n",
            "\n",
            "\n"
          ]
        }
      ]
    },
    {
      "cell_type": "code",
      "source": [
        "round(1.2345678,2)"
      ],
      "metadata": {
        "colab": {
          "base_uri": "https://localhost:8080/"
        },
        "id": "JMz_kk6gVGVl",
        "outputId": "7901281a-fb50-4095-db3a-86f9fc3a2029"
      },
      "execution_count": null,
      "outputs": [
        {
          "output_type": "execute_result",
          "data": {
            "text/plain": [
              "1.23"
            ]
          },
          "metadata": {},
          "execution_count": 7
        }
      ]
    },
    {
      "cell_type": "code",
      "source": [],
      "metadata": {
        "id": "sr-YrzJLWhw_"
      },
      "execution_count": null,
      "outputs": []
    },
    {
      "cell_type": "markdown",
      "source": [
        "# Looping\n",
        "---"
      ],
      "metadata": {
        "id": "u4Ga8Y-qWo9x"
      }
    },
    {
      "cell_type": "markdown",
      "source": [
        "### How Long is your Burp ? 🌬️\n",
        "---\n",
        "<pre>\n",
        "Ask the user to enter the Burp Length , print 'Burp' Message.\n",
        "\n",
        "eg. if the Length is 5 then 'Burrrrrp'\n",
        "\n",
        "if the Length is 25 then 'Burrrrrrrrrrrrrrrrrrrrrrrrrp'\n",
        "\n",
        "if the Length is 45 then 'Burrrrrrrrrrrrrrrrrrrrrrrrrrrrrrrrrrrrrrrrrrrrrp'\n",
        "\n",
        "note: Burp Length can be any Integer."
      ],
      "metadata": {
        "id": "mPYkAvnTW2Kb"
      }
    },
    {
      "cell_type": "code",
      "source": [
        "burpLength  = int (input('Enter your Burp Length 🌬️ '))\n",
        "\n",
        "letter=''\n",
        "\n",
        "for x in range( burpLength ):\n",
        "\n",
        "  letter = letter + 'r'\n",
        "  print(f'Bu{letter}p')\n",
        "\n"
      ],
      "metadata": {
        "colab": {
          "base_uri": "https://localhost:8080/"
        },
        "id": "P19Pjp5nWp4z",
        "outputId": "5085f55b-341c-48db-f033-184c4b43548e"
      },
      "execution_count": null,
      "outputs": [
        {
          "output_type": "stream",
          "name": "stdout",
          "text": [
            "Enter your Burp Length 🌬️ 5\n",
            "Burp\n",
            "Burrp\n",
            "Burrrp\n",
            "Burrrrp\n",
            "Burrrrrp\n"
          ]
        }
      ]
    },
    {
      "cell_type": "code",
      "source": [],
      "metadata": {
        "id": "yawmm0vbXu_X"
      },
      "execution_count": null,
      "outputs": []
    },
    {
      "cell_type": "code",
      "source": [
        "# range( limit )\n",
        "# what is range ? range() function generates Numbers.\n",
        "\n",
        "# range function starts generating numbers from 0 till limit-1\n",
        "\n",
        "# eg. range(5) output: 0 , 1 , 2 , 3 , 4\n",
        "\n",
        "# range(9) output: 0  , 1 , 2 ,3 ,4 ,5 ,6 ,7, 8\n",
        "\n",
        "# range(3) output: 0,1,2\n",
        "\n"
      ],
      "metadata": {
        "id": "cUxIyvfOX_1r"
      },
      "execution_count": null,
      "outputs": []
    },
    {
      "cell_type": "code",
      "source": [
        "for x in range(10):\n",
        "\n",
        "  if x == 7 :\n",
        "    break\n",
        "  print(x)\n",
        "\n",
        "\n"
      ],
      "metadata": {
        "colab": {
          "base_uri": "https://localhost:8080/"
        },
        "id": "bxRbpsDGYgh7",
        "outputId": "2dc49851-c194-46b3-c14d-467fd8b3ad7b"
      },
      "execution_count": null,
      "outputs": [
        {
          "output_type": "stream",
          "name": "stdout",
          "text": [
            "0\n",
            "1\n",
            "2\n",
            "3\n",
            "4\n",
            "5\n",
            "6\n"
          ]
        }
      ]
    },
    {
      "cell_type": "code",
      "source": [],
      "metadata": {
        "id": "Ehk3BOUdbnkO"
      },
      "execution_count": null,
      "outputs": []
    },
    {
      "cell_type": "markdown",
      "source": [
        "# String Manipulatoin\n",
        "---"
      ],
      "metadata": {
        "id": "BQdvooZ-b66j"
      }
    },
    {
      "cell_type": "markdown",
      "source": [
        "You are provided with Student Scores as follows :\n",
        "<pre>\n",
        "  marks = \"English 55 Science 82 Maths 94\"\n",
        "\n",
        "You are asked to find\n",
        "  - Sum of All Marks\n",
        "  - Avg of All Marks"
      ],
      "metadata": {
        "id": "siom-3_vcR-_"
      }
    },
    {
      "cell_type": "code",
      "source": [
        "marks = \"English 55 Science 82 Maths 94\""
      ],
      "metadata": {
        "id": "ayQwh5oHb8f5"
      },
      "execution_count": null,
      "outputs": []
    },
    {
      "cell_type": "code",
      "source": [
        "# step1 : using .split() function separate the words and create a new List.\n",
        "\n",
        "wordsList = marks.split()\n",
        "\n",
        "wordsList"
      ],
      "metadata": {
        "colab": {
          "base_uri": "https://localhost:8080/"
        },
        "id": "mWg-oghYcuL1",
        "outputId": "2a0a5b41-79d3-4a08-e81f-71a858ff957a"
      },
      "execution_count": null,
      "outputs": [
        {
          "output_type": "execute_result",
          "data": {
            "text/plain": [
              "['English', '55', 'Science', '82', 'Maths', '94']"
            ]
          },
          "metadata": {},
          "execution_count": 18
        }
      ]
    },
    {
      "cell_type": "code",
      "source": [],
      "metadata": {
        "id": "uVVSA97Bc7un"
      },
      "execution_count": null,
      "outputs": []
    },
    {
      "cell_type": "code",
      "source": [
        "# step 2 : write a for loop , to fetch each element into a variable say word ,\n",
        "# then use .isdigit() to determine if the variable word contains a Number or Not."
      ],
      "metadata": {
        "id": "22K6FYU_dbSR"
      },
      "execution_count": null,
      "outputs": []
    },
    {
      "cell_type": "code",
      "source": [
        "for word in wordsList :\n",
        "\n",
        "  print( word ,             word.isdigit() )"
      ],
      "metadata": {
        "colab": {
          "base_uri": "https://localhost:8080/"
        },
        "id": "1teaG08udhIb",
        "outputId": "1c20caa8-ef77-4a99-d317-d558e157e9bf"
      },
      "execution_count": null,
      "outputs": [
        {
          "output_type": "stream",
          "name": "stdout",
          "text": [
            "English False\n",
            "55 True\n",
            "Science False\n",
            "82 True\n",
            "Maths False\n",
            "94 True\n"
          ]
        }
      ]
    },
    {
      "cell_type": "code",
      "source": [],
      "metadata": {
        "id": "GQVQSalNdqlh"
      },
      "execution_count": null,
      "outputs": []
    },
    {
      "cell_type": "code",
      "source": [
        "# Step 3 Add the If Condition  to Filter the  Numbers\n",
        "\n",
        "for word in wordsList :\n",
        "\n",
        "  if word.isdigit():\n",
        "    print(word)"
      ],
      "metadata": {
        "colab": {
          "base_uri": "https://localhost:8080/"
        },
        "id": "vXy8OMdceyvW",
        "outputId": "257b395c-43c3-4e0c-c2ee-c415145b6072"
      },
      "execution_count": null,
      "outputs": [
        {
          "output_type": "stream",
          "name": "stdout",
          "text": [
            "55\n",
            "82\n",
            "94\n"
          ]
        }
      ]
    },
    {
      "cell_type": "code",
      "source": [],
      "metadata": {
        "id": "cZsLNGuRe4x0"
      },
      "execution_count": null,
      "outputs": []
    },
    {
      "cell_type": "code",
      "source": [
        "# step 4: Create a new list say 'scores' , using .append() add the numbers into the\n",
        "# new list. (make sure you convert word from string to integer so that we can do math)"
      ],
      "metadata": {
        "id": "xEbmOqyKfFMO"
      },
      "execution_count": null,
      "outputs": []
    },
    {
      "cell_type": "code",
      "source": [
        "scores = []\n",
        "\n",
        "for word in wordsList:\n",
        "\n",
        "  if word.isdigit():\n",
        "\n",
        "    scores.append( int(word) )\n",
        "\n",
        "\n",
        "print(scores)"
      ],
      "metadata": {
        "colab": {
          "base_uri": "https://localhost:8080/"
        },
        "id": "P2bJQ8B_fQGE",
        "outputId": "8415f2d1-fc4f-460f-c7d6-40745ca32249"
      },
      "execution_count": null,
      "outputs": [
        {
          "output_type": "stream",
          "name": "stdout",
          "text": [
            "[55, 82, 94]\n"
          ]
        }
      ]
    },
    {
      "cell_type": "code",
      "source": [
        "# step 5 : find answers to our question\n",
        "\n",
        "print('Total Scores ' , sum(scores) )"
      ],
      "metadata": {
        "colab": {
          "base_uri": "https://localhost:8080/"
        },
        "id": "Jh3r_oIkfVS0",
        "outputId": "0591e191-393b-4ce7-f75a-84f4a2b64e77"
      },
      "execution_count": null,
      "outputs": [
        {
          "output_type": "stream",
          "name": "stdout",
          "text": [
            "Total Scores  231\n"
          ]
        }
      ]
    },
    {
      "cell_type": "code",
      "source": [
        "print('Average Score ' , sum( scores )  /     len ( scores ) )"
      ],
      "metadata": {
        "colab": {
          "base_uri": "https://localhost:8080/"
        },
        "id": "v8XEH2uDfyLj",
        "outputId": "b17021d7-45b9-485e-857b-886a57076e31"
      },
      "execution_count": null,
      "outputs": [
        {
          "output_type": "stream",
          "name": "stdout",
          "text": [
            "Average Score  77.0\n"
          ]
        }
      ]
    },
    {
      "cell_type": "code",
      "source": [],
      "metadata": {
        "id": "PuGPRKmyf1cl"
      },
      "execution_count": null,
      "outputs": []
    },
    {
      "cell_type": "markdown",
      "source": [
        "# Set In Python\n",
        "---"
      ],
      "metadata": {
        "id": "VRFsN9s6kzpk"
      }
    },
    {
      "cell_type": "code",
      "source": [
        "salesTeam = {'zhining','armanta','miki','andika','nicklaus'}"
      ],
      "metadata": {
        "id": "fAYxAVqmk1E0"
      },
      "execution_count": null,
      "outputs": []
    },
    {
      "cell_type": "code",
      "source": [
        "marketingTeam = {'casselyn','zhining','mike','denver','andika','gabriel'}"
      ],
      "metadata": {
        "id": "o6HH3TpSlOq2"
      },
      "execution_count": null,
      "outputs": []
    },
    {
      "cell_type": "code",
      "source": [],
      "metadata": {
        "id": "bcvl-UWplVZV"
      },
      "execution_count": null,
      "outputs": []
    },
    {
      "cell_type": "markdown",
      "source": [
        "Objective:  You are asked to find employees who work for Both Sales & Marketing ."
      ],
      "metadata": {
        "id": "o4Sl_8OHlfwk"
      }
    },
    {
      "cell_type": "code",
      "source": [
        "salesTeam.intersection( marketingTeam )"
      ],
      "metadata": {
        "colab": {
          "base_uri": "https://localhost:8080/"
        },
        "id": "A5D1UmFYluZy",
        "outputId": "9f587d50-b779-41fc-c903-65a3517293cd"
      },
      "execution_count": null,
      "outputs": [
        {
          "output_type": "execute_result",
          "data": {
            "text/plain": [
              "{'andika', 'zhining'}"
            ]
          },
          "metadata": {},
          "execution_count": 29
        }
      ]
    },
    {
      "cell_type": "code",
      "source": [
        "# alternatively\n",
        "ans=salesTeam & marketingTeam"
      ],
      "metadata": {
        "id": "zt7hLTEPmJwn"
      },
      "execution_count": null,
      "outputs": []
    },
    {
      "cell_type": "code",
      "source": [
        "ans"
      ],
      "metadata": {
        "colab": {
          "base_uri": "https://localhost:8080/"
        },
        "id": "iFIlxMA4mNi_",
        "outputId": "953c9a8b-2884-47f3-d2df-1d608a613f66"
      },
      "execution_count": null,
      "outputs": [
        {
          "output_type": "execute_result",
          "data": {
            "text/plain": [
              "{'andika', 'zhining'}"
            ]
          },
          "metadata": {},
          "execution_count": 32
        }
      ]
    },
    {
      "cell_type": "code",
      "source": [],
      "metadata": {
        "id": "ypmT0q_SmfC4"
      },
      "execution_count": null,
      "outputs": []
    },
    {
      "cell_type": "markdown",
      "source": [
        "Objective: You are asked to prepare a report Containing Names of All Employees from Both Team."
      ],
      "metadata": {
        "id": "UVhXlOhgmkYQ"
      }
    },
    {
      "cell_type": "code",
      "source": [
        "salesTeam.union( marketingTeam )"
      ],
      "metadata": {
        "colab": {
          "base_uri": "https://localhost:8080/"
        },
        "id": "gkflOLPWmpHt",
        "outputId": "4fde3d5d-523d-4415-f0fb-124724e374a7"
      },
      "execution_count": null,
      "outputs": [
        {
          "output_type": "execute_result",
          "data": {
            "text/plain": [
              "{'andika',\n",
              " 'armanta',\n",
              " 'casselyn',\n",
              " 'denver',\n",
              " 'gabriel',\n",
              " 'mike',\n",
              " 'miki',\n",
              " 'nicklaus',\n",
              " 'zhining'}"
            ]
          },
          "metadata": {},
          "execution_count": 33
        }
      ]
    },
    {
      "cell_type": "code",
      "source": [
        "# alternatively\n",
        "salesTeam | marketingTeam"
      ],
      "metadata": {
        "colab": {
          "base_uri": "https://localhost:8080/"
        },
        "id": "jZyUPxMynBzu",
        "outputId": "29180b03-36c5-49f9-f079-9b6d624af4cb"
      },
      "execution_count": null,
      "outputs": [
        {
          "output_type": "execute_result",
          "data": {
            "text/plain": [
              "{'andika',\n",
              " 'armanta',\n",
              " 'casselyn',\n",
              " 'denver',\n",
              " 'gabriel',\n",
              " 'mike',\n",
              " 'miki',\n",
              " 'nicklaus',\n",
              " 'zhining'}"
            ]
          },
          "metadata": {},
          "execution_count": 35
        }
      ]
    },
    {
      "cell_type": "code",
      "source": [],
      "metadata": {
        "id": "Lf5vnZ9wnFIJ"
      },
      "execution_count": null,
      "outputs": []
    },
    {
      "cell_type": "markdown",
      "source": [
        "Objective: You are Asked to Find Sales Only Employees ( make sure employee must not work for other Team)"
      ],
      "metadata": {
        "id": "YuBr8eHbnUSf"
      }
    },
    {
      "cell_type": "code",
      "source": [
        "salesTeam.difference( marketingTeam )"
      ],
      "metadata": {
        "colab": {
          "base_uri": "https://localhost:8080/"
        },
        "id": "vrCysDeynfCm",
        "outputId": "aa060610-bb26-49e8-de60-cb1dc9898e47"
      },
      "execution_count": null,
      "outputs": [
        {
          "output_type": "execute_result",
          "data": {
            "text/plain": [
              "{'armanta', 'miki', 'nicklaus'}"
            ]
          },
          "metadata": {},
          "execution_count": 36
        }
      ]
    },
    {
      "cell_type": "code",
      "source": [
        "# Alternatively\n",
        "\n",
        "salesTeam - marketingTeam"
      ],
      "metadata": {
        "colab": {
          "base_uri": "https://localhost:8080/"
        },
        "id": "TKGUggdfn51z",
        "outputId": "cd029a0d-3a76-4981-9daf-22a78d11f40e"
      },
      "execution_count": null,
      "outputs": [
        {
          "output_type": "execute_result",
          "data": {
            "text/plain": [
              "{'armanta', 'miki', 'nicklaus'}"
            ]
          },
          "metadata": {},
          "execution_count": 37
        }
      ]
    },
    {
      "cell_type": "code",
      "source": [],
      "metadata": {
        "id": "L3VNHMUxn8e5"
      },
      "execution_count": null,
      "outputs": []
    },
    {
      "cell_type": "markdown",
      "source": [
        "Objective: You are asked to Find Employees from Both the Team , (make sure you find only employees who work for their respective team only and not for other Teams)"
      ],
      "metadata": {
        "id": "DX1PnR65oPCV"
      }
    },
    {
      "cell_type": "code",
      "source": [
        "# Symmetric Difference : fetches all Elements from Both Set Excluding Commons."
      ],
      "metadata": {
        "id": "S2tLpe3eoXV7"
      },
      "execution_count": null,
      "outputs": []
    },
    {
      "cell_type": "code",
      "source": [
        "salesTeam.symmetric_difference( marketingTeam )"
      ],
      "metadata": {
        "colab": {
          "base_uri": "https://localhost:8080/"
        },
        "id": "-_AZQZfLo350",
        "outputId": "0b876fab-0ec7-4451-8477-f314c0183fd5"
      },
      "execution_count": null,
      "outputs": [
        {
          "output_type": "execute_result",
          "data": {
            "text/plain": [
              "{'armanta', 'casselyn', 'denver', 'gabriel', 'mike', 'miki', 'nicklaus'}"
            ]
          },
          "metadata": {},
          "execution_count": 39
        }
      ]
    },
    {
      "cell_type": "code",
      "source": [
        "# Alternatively\n",
        "\n",
        "salesTeam ^ marketingTeam"
      ],
      "metadata": {
        "colab": {
          "base_uri": "https://localhost:8080/"
        },
        "id": "z9GF6b7So9oD",
        "outputId": "e9981ae1-5e9f-4638-a36d-7e152793840f"
      },
      "execution_count": null,
      "outputs": [
        {
          "output_type": "execute_result",
          "data": {
            "text/plain": [
              "{'armanta', 'casselyn', 'denver', 'gabriel', 'mike', 'miki', 'nicklaus'}"
            ]
          },
          "metadata": {},
          "execution_count": 40
        }
      ]
    },
    {
      "cell_type": "code",
      "source": [],
      "metadata": {
        "id": "3Kg17oZOpDuy"
      },
      "execution_count": null,
      "outputs": []
    },
    {
      "cell_type": "markdown",
      "source": [
        "# Dictionary\n",
        "----"
      ],
      "metadata": {
        "id": "82SgVQmopd2b"
      }
    },
    {
      "cell_type": "code",
      "source": [
        "# Creating an Empty Dictionary\n",
        "\n",
        "usa = {}"
      ],
      "metadata": {
        "id": "-ld_ZqM-pfGR"
      },
      "execution_count": null,
      "outputs": []
    },
    {
      "cell_type": "code",
      "source": [
        "# Adding Key/Value Pair , Syntax-            dict[ keyHere ] = valueHere\n",
        "\n",
        "usa['Tx'] = 'Texas'\n",
        "usa['Ca'] = 'California'\n",
        "usa['Il'] = 'Illinois'\n",
        "usa['Ar'] = 'Arkansas'\n",
        "usa['Al'] = 'Alabama'"
      ],
      "metadata": {
        "id": "5tFYiL-bpqaG"
      },
      "execution_count": null,
      "outputs": []
    },
    {
      "cell_type": "code",
      "source": [
        "print( usa )"
      ],
      "metadata": {
        "colab": {
          "base_uri": "https://localhost:8080/"
        },
        "id": "yk1aPUJ3p3Vx",
        "outputId": "11fa803c-d93f-42be-9e6b-ed593b324dc0"
      },
      "execution_count": null,
      "outputs": [
        {
          "output_type": "stream",
          "name": "stdout",
          "text": [
            "{'Tx': 'Texas', 'Ca': 'California', 'Il': 'Illinois', 'Ar': 'Arkansas', 'Al': 'Alabama'}\n"
          ]
        }
      ]
    },
    {
      "cell_type": "code",
      "source": [
        "# Deleting Key/Value Pair,      Syntax:             del   dictName[KeyHere]\n",
        "del  usa['Il']"
      ],
      "metadata": {
        "id": "Iz9tuYECp4Da"
      },
      "execution_count": null,
      "outputs": []
    },
    {
      "cell_type": "code",
      "source": [
        "print(usa)"
      ],
      "metadata": {
        "colab": {
          "base_uri": "https://localhost:8080/"
        },
        "id": "4cK8ZHsgp_0R",
        "outputId": "0275fc75-4b4b-4813-bb09-02a231b4c418"
      },
      "execution_count": null,
      "outputs": [
        {
          "output_type": "stream",
          "name": "stdout",
          "text": [
            "{'Tx': 'Texas', 'Ca': 'California', 'Ar': 'Arkansas', 'Al': 'Alabama'}\n"
          ]
        }
      ]
    },
    {
      "cell_type": "code",
      "source": [],
      "metadata": {
        "id": "ydU1FYb8qAXo"
      },
      "execution_count": null,
      "outputs": []
    },
    {
      "cell_type": "markdown",
      "source": [
        "# Retrieving Value using Key\n",
        "---"
      ],
      "metadata": {
        "id": "d8SNT9pYq9o-"
      }
    },
    {
      "cell_type": "code",
      "source": [
        "# method 1\n",
        "usa['Ca']"
      ],
      "metadata": {
        "colab": {
          "base_uri": "https://localhost:8080/",
          "height": 35
        },
        "id": "URpaXGFsq-4e",
        "outputId": "dc3e0b5b-7049-4c91-9214-7b4dd5b492d0"
      },
      "execution_count": null,
      "outputs": [
        {
          "output_type": "execute_result",
          "data": {
            "text/plain": [
              "'California'"
            ],
            "application/vnd.google.colaboratory.intrinsic+json": {
              "type": "string"
            }
          },
          "metadata": {},
          "execution_count": 46
        }
      ]
    },
    {
      "cell_type": "code",
      "source": [
        "# method 2\n",
        "usa.get('Ca')"
      ],
      "metadata": {
        "colab": {
          "base_uri": "https://localhost:8080/",
          "height": 35
        },
        "id": "9M07DZ-GrA9o",
        "outputId": "27864ab3-cba8-4ed3-f645-d787aab24c7c"
      },
      "execution_count": null,
      "outputs": [
        {
          "output_type": "execute_result",
          "data": {
            "text/plain": [
              "'California'"
            ],
            "application/vnd.google.colaboratory.intrinsic+json": {
              "type": "string"
            }
          },
          "metadata": {},
          "execution_count": 47
        }
      ]
    },
    {
      "cell_type": "code",
      "source": [
        "# method 2 also provides a provision to produce a default value when given key is not found.\n",
        "# syntax:   dictName.get( key here , default value here )"
      ],
      "metadata": {
        "id": "wiRXjlEcrCsj"
      },
      "execution_count": null,
      "outputs": []
    },
    {
      "cell_type": "code",
      "source": [
        "usa.get('Ca' , 'Ouch 😠 Key not Found')"
      ],
      "metadata": {
        "colab": {
          "base_uri": "https://localhost:8080/",
          "height": 35
        },
        "id": "C5o4WYObrKER",
        "outputId": "4c9d33ae-d4c0-49e7-9696-c718d366dace"
      },
      "execution_count": null,
      "outputs": [
        {
          "output_type": "execute_result",
          "data": {
            "text/plain": [
              "'California'"
            ],
            "application/vnd.google.colaboratory.intrinsic+json": {
              "type": "string"
            }
          },
          "metadata": {},
          "execution_count": 49
        }
      ]
    },
    {
      "cell_type": "code",
      "source": [
        "usa.get('xoxox' , 'Ouch 😠 Key not Found')"
      ],
      "metadata": {
        "colab": {
          "base_uri": "https://localhost:8080/",
          "height": 35
        },
        "id": "DrUwmyRhrNGa",
        "outputId": "2c74b66d-ade2-48d3-9408-939b2c2684ec"
      },
      "execution_count": null,
      "outputs": [
        {
          "output_type": "execute_result",
          "data": {
            "text/plain": [
              "'Ouch 😠 Key not Found'"
            ],
            "application/vnd.google.colaboratory.intrinsic+json": {
              "type": "string"
            }
          },
          "metadata": {},
          "execution_count": 50
        }
      ]
    },
    {
      "cell_type": "markdown",
      "source": [
        "# Dictionary + Loops\n",
        "---"
      ],
      "metadata": {
        "id": "yY5jmF7yr7Tv"
      }
    },
    {
      "cell_type": "code",
      "source": [
        "# when a dictionary is used in loop, a dictionary returns Keys\n",
        "\n",
        "for guessMe in usa :\n",
        "\n",
        "  print ( guessMe )"
      ],
      "metadata": {
        "colab": {
          "base_uri": "https://localhost:8080/"
        },
        "id": "Mw5OuSLprOUn",
        "outputId": "0935bc5f-7cfa-4baa-cb9a-9a5d76730e56"
      },
      "execution_count": null,
      "outputs": [
        {
          "output_type": "stream",
          "name": "stdout",
          "text": [
            "Tx\n",
            "Ca\n",
            "Ar\n",
            "Al\n"
          ]
        }
      ]
    },
    {
      "cell_type": "code",
      "source": [
        "for guessMe in usa :\n",
        "\n",
        "  print ( guessMe , usa[guessMe] )"
      ],
      "metadata": {
        "colab": {
          "base_uri": "https://localhost:8080/"
        },
        "id": "Y6SUnHP0sDNS",
        "outputId": "cb6110e2-0af4-42e2-a234-e2bd1f270b40"
      },
      "execution_count": null,
      "outputs": [
        {
          "output_type": "stream",
          "name": "stdout",
          "text": [
            "Tx Texas\n",
            "Ca California\n",
            "Ar Arkansas\n",
            "Al Alabama\n"
          ]
        }
      ]
    },
    {
      "cell_type": "code",
      "source": [
        "for guessMe in usa :\n",
        "\n",
        "  print ( guessMe , usa.get(guessMe))"
      ],
      "metadata": {
        "colab": {
          "base_uri": "https://localhost:8080/"
        },
        "id": "sq6JFdHisNod",
        "outputId": "e316a7de-5a68-410d-8d97-4912a504e27b"
      },
      "execution_count": null,
      "outputs": [
        {
          "output_type": "stream",
          "name": "stdout",
          "text": [
            "Tx Texas\n",
            "Ca California\n",
            "Ar Arkansas\n",
            "Al Alabama\n"
          ]
        }
      ]
    },
    {
      "cell_type": "code",
      "source": [],
      "metadata": {
        "id": "BFAanVa8sPoo"
      },
      "execution_count": null,
      "outputs": []
    },
    {
      "cell_type": "markdown",
      "source": [
        "Here are some useful functions of Dictionary."
      ],
      "metadata": {
        "id": "4C0PS6Lksoza"
      }
    },
    {
      "cell_type": "code",
      "source": [
        "# .update() : it is used to add multiple key/values in a dictionary\n",
        "\n",
        "usa.update( {'Ak':'Alaska', 'AZ':'Arizona','Fl':'Florida','Ga':'Georgia'})"
      ],
      "metadata": {
        "id": "O-OZ9l0dsqKI"
      },
      "execution_count": null,
      "outputs": []
    },
    {
      "cell_type": "code",
      "source": [
        "print(usa )"
      ],
      "metadata": {
        "colab": {
          "base_uri": "https://localhost:8080/"
        },
        "id": "iL2dDxIOs3rD",
        "outputId": "d6f83a8b-21da-4436-b5cd-1317c359fa5b"
      },
      "execution_count": null,
      "outputs": [
        {
          "output_type": "stream",
          "name": "stdout",
          "text": [
            "{'Tx': 'Texas', 'Ca': 'California', 'Ar': 'Arkansas', 'Al': 'Alabama', 'Ak': 'Alaska', 'AZ': 'Arizona', 'Fl': 'Florida', 'Ga': 'Georgia'}\n"
          ]
        }
      ]
    },
    {
      "cell_type": "code",
      "source": [
        "# .keys(): it returns only keys of dictionary\n",
        "usa.keys()"
      ],
      "metadata": {
        "colab": {
          "base_uri": "https://localhost:8080/"
        },
        "id": "7eHkvb-Is4Mu",
        "outputId": "7f99e5d9-9da3-48bf-b07e-62e180c4ce63"
      },
      "execution_count": null,
      "outputs": [
        {
          "output_type": "execute_result",
          "data": {
            "text/plain": [
              "dict_keys(['Tx', 'Ca', 'Ar', 'Al', 'Ak', 'AZ', 'Fl', 'Ga'])"
            ]
          },
          "metadata": {},
          "execution_count": 56
        }
      ]
    },
    {
      "cell_type": "code",
      "source": [
        "# .values() : it returns only values of dictionary\n",
        "usa.values()"
      ],
      "metadata": {
        "colab": {
          "base_uri": "https://localhost:8080/"
        },
        "id": "37pDJ7h9s8Lx",
        "outputId": "bad9b721-ef72-4b4f-eb08-8d899064a579"
      },
      "execution_count": null,
      "outputs": [
        {
          "output_type": "execute_result",
          "data": {
            "text/plain": [
              "dict_values(['Texas', 'California', 'Arkansas', 'Alabama', 'Alaska', 'Arizona', 'Florida', 'Georgia'])"
            ]
          },
          "metadata": {},
          "execution_count": 57
        }
      ]
    },
    {
      "cell_type": "code",
      "source": [
        "# .items(): it return key/value pair in a Tuple\n",
        "usa.items()"
      ],
      "metadata": {
        "colab": {
          "base_uri": "https://localhost:8080/"
        },
        "id": "qc_tl8lXs_ci",
        "outputId": "2a8805d7-94b9-45b7-e8f3-305ae7340f04"
      },
      "execution_count": null,
      "outputs": [
        {
          "output_type": "execute_result",
          "data": {
            "text/plain": [
              "dict_items([('Tx', 'Texas'), ('Ca', 'California'), ('Ar', 'Arkansas'), ('Al', 'Alabama'), ('Ak', 'Alaska'), ('AZ', 'Arizona'), ('Fl', 'Florida'), ('Ga', 'Georgia')])"
            ]
          },
          "metadata": {},
          "execution_count": 58
        }
      ]
    },
    {
      "cell_type": "code",
      "source": [],
      "metadata": {
        "id": "uq27BC3WtExG"
      },
      "execution_count": null,
      "outputs": []
    },
    {
      "cell_type": "markdown",
      "source": [
        "Objective: Let us Learn how to Generate a Dictionary Dynamically!\n",
        "---"
      ],
      "metadata": {
        "id": "yzzrHRRHtzHS"
      }
    },
    {
      "cell_type": "code",
      "source": [
        "\n",
        "mydict= { }     # i created an empty dictionary\n",
        "\n",
        "for x in range( 2,11):\n",
        "\n",
        "  # syntax:     dictName [ keyHere ] = valueHere\n",
        "  mydict[  x  ] =   x * x\n",
        "\n",
        "\n",
        "print( mydict )\n"
      ],
      "metadata": {
        "colab": {
          "base_uri": "https://localhost:8080/"
        },
        "id": "VXJp0LP9t2Hu",
        "outputId": "b500b991-f3d1-4b1c-cea4-ee3d2bc88d98"
      },
      "execution_count": null,
      "outputs": [
        {
          "output_type": "stream",
          "name": "stdout",
          "text": [
            "{2: 4, 3: 9, 4: 16, 5: 25, 6: 36, 7: 49, 8: 64, 9: 81, 10: 100}\n"
          ]
        }
      ]
    },
    {
      "cell_type": "code",
      "source": [],
      "metadata": {
        "id": "Rmq00FXyt_F2"
      },
      "execution_count": null,
      "outputs": []
    },
    {
      "cell_type": "code",
      "source": [
        "mylist= [ \"orange\" , 'kiwi' , 'dragonfruit', 'papaya', 'custardapple' ]"
      ],
      "metadata": {
        "id": "dRYd1yqhu8C9"
      },
      "execution_count": null,
      "outputs": []
    },
    {
      "cell_type": "code",
      "source": [
        "mydict= {}\n",
        "\n",
        "\n",
        "for fruit in mylist :\n",
        "\n",
        "  mydict[ fruit ] =  len( fruit )\n",
        "\n",
        "print( mydict )"
      ],
      "metadata": {
        "colab": {
          "base_uri": "https://localhost:8080/"
        },
        "id": "OQuDu4bgvCPs",
        "outputId": "25cc88d8-b26b-472e-abcf-1fd1737cbf5e"
      },
      "execution_count": null,
      "outputs": [
        {
          "output_type": "stream",
          "name": "stdout",
          "text": [
            "{'orange': 6, 'kiwi': 4, 'dragonfruit': 11, 'papaya': 6, 'custardapple': 12}\n"
          ]
        }
      ]
    },
    {
      "cell_type": "code",
      "source": [],
      "metadata": {
        "id": "VbnVXjZKvcuB"
      },
      "execution_count": null,
      "outputs": []
    },
    {
      "cell_type": "code",
      "source": [
        "marks = [ 81 , 29 ,47 , 76 ,  32 , 53  ]"
      ],
      "metadata": {
        "id": "KHcvJgxzwCbV"
      },
      "execution_count": null,
      "outputs": []
    },
    {
      "cell_type": "code",
      "source": [
        "# you are asked to generate a dictionary where\n",
        "# key : score\n",
        "# value: 'Pass' or 'Fail'\n",
        "\n",
        "# any score > 45 is 'Pass' otherwise 'Fail'"
      ],
      "metadata": {
        "id": "qJVScKh7wK00"
      },
      "execution_count": null,
      "outputs": []
    },
    {
      "cell_type": "code",
      "source": [
        "# functions , tuples uses ()\n",
        "# list ,index , keys in dict uses []"
      ],
      "metadata": {
        "id": "nZ8M06ZAwQTm"
      },
      "execution_count": null,
      "outputs": []
    },
    {
      "cell_type": "code",
      "source": [
        "marks = [ 81 , 29 ,47 , 76 ,  32 , 53  ]"
      ],
      "metadata": {
        "id": "jF2-3MQSxE89"
      },
      "execution_count": null,
      "outputs": []
    },
    {
      "cell_type": "code",
      "source": [
        "\n",
        "# first write a loop that fetches each score into a variable say score\n",
        "\n",
        "mydict = {}\n",
        "\n",
        "for score in marks :\n",
        "\n",
        "  # Add a Condition to Determine if the score > 45\n",
        "\n",
        "  if score > 45 :\n",
        "\n",
        "    mydict [ score ] = '😀'\n",
        "\n",
        "  else:\n",
        "\n",
        "    mydict[ score ] = '🥲'\n",
        "\n",
        "\n",
        "print( mydict )"
      ],
      "metadata": {
        "colab": {
          "base_uri": "https://localhost:8080/"
        },
        "id": "AOjFCNWNxllk",
        "outputId": "89b6ba47-343c-46c7-d818-9f71abb8171a"
      },
      "execution_count": null,
      "outputs": [
        {
          "output_type": "stream",
          "name": "stdout",
          "text": [
            "{81: '😀', 29: '🥲', 47: '😀', 76: '😀', 32: '🥲', 53: '😀'}\n"
          ]
        }
      ]
    },
    {
      "cell_type": "code",
      "source": [],
      "metadata": {
        "id": "lldGOMz-xssL"
      },
      "execution_count": null,
      "outputs": []
    },
    {
      "cell_type": "code",
      "source": [
        "marks = [ 81 , 29 ,47 , 76 ,  32 , 53  ]"
      ],
      "metadata": {
        "id": "0Fu4pZs-yt2s"
      },
      "execution_count": null,
      "outputs": []
    },
    {
      "cell_type": "code",
      "source": [
        "{score:'Pass' if score>45 else 'Fail' for score in marks }"
      ],
      "metadata": {
        "colab": {
          "base_uri": "https://localhost:8080/"
        },
        "id": "JdUGwxkqyuIv",
        "outputId": "5ad1d2ac-0187-44e2-a992-7c45a92c9cdc"
      },
      "execution_count": null,
      "outputs": [
        {
          "output_type": "execute_result",
          "data": {
            "text/plain": [
              "{81: 'Pass', 29: 'Fail', 47: 'Pass', 76: 'Pass', 32: 'Fail', 53: 'Pass'}"
            ]
          },
          "metadata": {},
          "execution_count": 71
        }
      ]
    },
    {
      "cell_type": "code",
      "source": [],
      "metadata": {
        "id": "jmm5qvmUyxlW"
      },
      "execution_count": null,
      "outputs": []
    },
    {
      "cell_type": "code",
      "source": [
        "# Below is a Shopping Cart containing 1 Piece (qty) for Each Product\n",
        "\n",
        "shopping_cart = ['orange','apple','plum','kiwi']\n",
        "\n",
        "# below dictionary represents the price of each product\n",
        "\n",
        "price= { 'orange' : 1 , 'apple':2 , 'plum':3.5,'kiwi':4}\n",
        "\n",
        "# below dictionary represents the inventory or stock count for each product.\n",
        "\n",
        "stock = {'orange':32 ,'apple':0 , 'plum':12,'kiwi':8}\n",
        "\n",
        "# you are asked to find the total Bill as per the shopping_cart items,\n",
        "# please make sure no product should be billed if it is not present in stock."
      ],
      "metadata": {
        "id": "RqgFwuXAy_Qm"
      },
      "execution_count": null,
      "outputs": []
    },
    {
      "cell_type": "code",
      "source": [
        "total_bill = 0\n",
        "\n",
        "for item in shopping_cart :\n",
        "\n",
        "  if stock[item] > 0 :\n",
        "\n",
        "    total_bill = total_bill + price[item]\n",
        "    #total_bill = total_bill + (another_dict[item]* price[item] )\n",
        "\n",
        "print('Total Amount Payable ', total_bill)\n",
        "\n",
        "\n"
      ],
      "metadata": {
        "colab": {
          "base_uri": "https://localhost:8080/"
        },
        "id": "qZdH-pC2zb08",
        "outputId": "a2f24941-5053-491f-aaa8-34ae5930e0f8"
      },
      "execution_count": null,
      "outputs": [
        {
          "output_type": "stream",
          "name": "stdout",
          "text": [
            "Total Amount Payable  8.5\n"
          ]
        }
      ]
    },
    {
      "cell_type": "code",
      "source": [],
      "metadata": {
        "id": "uoxOzhKD1wH9"
      },
      "execution_count": null,
      "outputs": []
    }
  ]
}